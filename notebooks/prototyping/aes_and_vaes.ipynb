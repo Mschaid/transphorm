{
 "cells": [
  {
   "cell_type": "code",
   "execution_count": 1,
   "metadata": {},
   "outputs": [],
   "source": [
    "%load_ext autoreload\n",
    "%autoreload 2"
   ]
  },
  {
   "cell_type": "code",
   "execution_count": 3,
   "metadata": {},
   "outputs": [
    {
     "data": {
      "text/plain": [
       "True"
      ]
     },
     "execution_count": 3,
     "metadata": {},
     "output_type": "execute_result"
    }
   ],
   "source": [
    "import torch\n",
    "from torch import nn\n",
    "import lightning as L\n",
    "import matplotlib.pyplot as plt\n",
    "from transphorm.model_components.data_objects import SyntheticFPDataModule\n",
    "from transphorm.model_components.model_modules import AutoEncoder, DilatedCNNDecoder, DilatedCNNEncoder\n",
    "from pathlib import Path\n",
    "import seaborn as sns\n",
    "import os\n",
    "from dotenv import load_dotenv\n",
    "\n",
    "load_dotenv()"
   ]
  },
  {
   "cell_type": "code",
   "execution_count": 6,
   "metadata": {},
   "outputs": [],
   "source": [
    "\n",
    "model_path = \"\"\n",
    "data_path = os.getenv(\"DATA_PATH\")\n",
    "\n",
    "data_mod = SyntheticFPDataModule(data_path)\n",
    "data_mod.prepare_data()\n",
    "data_mod.setup(\"test\")\n",
    "\n",
    "model = AutoEncoder.load_from_checkpoint(model_path, encoder = DilatedCNNEncoder, decoder = DilatedCNNDecoder)"
   ]
  },
  {
   "cell_type": "code",
   "execution_count": null,
   "metadata": {},
   "outputs": [],
   "source": []
  }
 ],
 "metadata": {
  "kernelspec": {
   "display_name": "transphorm12",
   "language": "python",
   "name": "python3"
  },
  "language_info": {
   "codemirror_mode": {
    "name": "ipython",
    "version": 3
   },
   "file_extension": ".py",
   "mimetype": "text/x-python",
   "name": "python",
   "nbconvert_exporter": "python",
   "pygments_lexer": "ipython3",
   "version": "3.11.9"
  }
 },
 "nbformat": 4,
 "nbformat_minor": 2
}
