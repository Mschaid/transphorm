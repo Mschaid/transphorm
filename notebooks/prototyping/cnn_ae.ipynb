{
 "cells": [
  {
   "cell_type": "code",
   "execution_count": null,
   "metadata": {},
   "outputs": [],
   "source": [
    "%load_ext autoreload\n",
    "%autoreload 2"
   ]
  },
  {
   "cell_type": "code",
   "execution_count": null,
   "metadata": {},
   "outputs": [],
   "source": [
    "\n",
    "from transphorm.model_components.data_objects import SyntheticFPDataModule\n",
    "from transphorm.model_components.model_modules import AutoEncoder, CNNEncoder, CNNDecoder\n",
    "from torch.utils.data import DataLoader, TensorDataset\n",
    "import torch \n",
    "import numpy as np\n",
    "import matplotlib.pyplot as plt\n",
    "import polars as pl\n",
    "import matplotlib.pyplot as plt\n",
    "import lightning as L\n",
    "from torch import nn"
   ]
  },
  {
   "cell_type": "code",
   "execution_count": null,
   "metadata": {},
   "outputs": [],
   "source": [
    "\n"
   ]
  },
  {
   "cell_type": "code",
   "execution_count": null,
   "metadata": {},
   "outputs": [],
   "source": [
    "def plot_tensor(ten):\n",
    "    arr = ten.detach().numpy()\n",
    "    plt.plot(arr)"
   ]
  },
  {
   "cell_type": "code",
   "execution_count": null,
   "metadata": {},
   "outputs": [],
   "source": [
    "checkpoint = \"/Users/mds8301/Development/transphorm/notebooks/lightning_logs/version_7/checkpoints/epoch=999-step=22000.ckpt\"\n",
    "ae = AutoEncoder.load_from_checkpoint(checkpoint, encoder=CNNEncoder, decoder=CNNDecoder)"
   ]
  },
  {
   "cell_type": "code",
   "execution_count": null,
   "metadata": {},
   "outputs": [],
   "source": [
    "ae.eval()\n",
    "ae.to('cpu')\n",
    "\n",
    "def replace_x_id(X, idx):\n",
    "    zeroed_tensor = torch.zeros_like(X[idx])\n",
    "    X[idx] = zeroed_tensor\n",
    "    return X\n",
    "\n",
    "X_train = d.test[0][0].to('cpu')\n",
    "X_train_idx_1_replaced = replace_x_id(X_train, 1)\n",
    "X_train_idx_2_replaced = replace_x_id(X_train,2)\n",
    "X_train_both_replaced = replace_x_id(X_train_idx_1_replaced, 2)\n",
    "\n",
    "\n",
    "\n",
    "X_hat = ae(X_train)\n",
    "X_0_1_hat = ae(X_train_idx_1_replaced)\n",
    "X_0_2_hat = ae(X_train_idx_2_replaced)\n",
    "X_both_hat = ae(X_train_both_replaced)\n",
    "\n",
    "plot_tensor(X_train[0])\n",
    "plot_tensor(X_0_1_hat[0])\n",
    "# plot_tensor(X_0_2_hat[0])\n",
    "# plot_tensor(X_both_hat[0])"
   ]
  },
  {
   "cell_type": "code",
   "execution_count": null,
   "metadata": {},
   "outputs": [],
   "source": [
    "replace_x_1id = torch.zeros(X_train[1].shape)\n",
    "X_train[1] = replace_x_1id"
   ]
  },
  {
   "cell_type": "code",
   "execution_count": null,
   "metadata": {},
   "outputs": [],
   "source": [
    "x_hat_0_id1 = ae(X_train)"
   ]
  },
  {
   "cell_type": "code",
   "execution_count": null,
   "metadata": {},
   "outputs": [],
   "source": [
    "plot_tensor(x_hat_0_id1[0])\n",
    "plot_tensor(X_hat[0])"
   ]
  },
  {
   "cell_type": "code",
   "execution_count": null,
   "metadata": {},
   "outputs": [],
   "source": []
  }
 ],
 "metadata": {
  "kernelspec": {
   "display_name": "transphorm",
   "language": "python",
   "name": "python3"
  },
  "language_info": {
   "codemirror_mode": {
    "name": "ipython",
    "version": 3
   },
   "file_extension": ".py",
   "mimetype": "text/x-python",
   "name": "python",
   "nbconvert_exporter": "python",
   "pygments_lexer": "ipython3",
   "version": "3.11.9"
  }
 },
 "nbformat": 4,
 "nbformat_minor": 2
}
