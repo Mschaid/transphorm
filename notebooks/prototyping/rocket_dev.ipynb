{
 "cells": [
  {
   "cell_type": "markdown",
   "metadata": {},
   "source": [
    "# Initial baseline classifer using ROCKET using active avoidance\n",
    "### [Paper link](https://link.springer.com/article/10.1007/s10618-020-00701-z)\n",
    "### Paper abstract  \n",
    "| Most methods for time series classification that attain state-of-the-art accuracy have high computational complexity, requiring significant training time even for smaller datasets, and are intractable for larger datasets. Additionally, many existing methods focus on a single type of feature such as shape or frequency. Building on the recent success of convolutional neural networks for time series classification, we show that simple linear classifiers using random convolutional kernels achieve state-of-the-art accuracy with a fraction of the computational expense of existing methods. Using this method, it is possible to train and test a classifier on all 85 ‘bake off’ datasets in the UCR archive in \n",
    ", and it is possible to train a classifier on a large dataset of more than one million time series in approximately 1 h.\n"
   ]
  },
  {
   "cell_type": "code",
   "execution_count": 1,
   "metadata": {},
   "outputs": [],
   "source": [
    "%load_ext autoreload\n",
    "%autoreload 2"
   ]
  },
  {
   "cell_type": "code",
   "execution_count": 8,
   "metadata": {},
   "outputs": [],
   "source": [
    "from pathlib import Path\n",
    "import numpy as np\n",
    "from sktime.classification.kernel_based import RocketClassifier\n",
    "\n",
    "from transphorm.experiments.rocket.rocket import *\n",
    "\n",
    "from sklearn.metrics import f1_score, accuracy_score, roc_auc_score\n",
    "from sklearn.metrics import get_scorer\n",
    "from sklearn.model_selection import learning_curve\n",
    "from tsai.models.ROCKET_Pytorch import ROCKET, create_rocket_features"
   ]
  },
  {
   "cell_type": "code",
   "execution_count": 4,
   "metadata": {},
   "outputs": [
    {
     "ename": "NameError",
     "evalue": "name 'ROCKET' is not defined",
     "output_type": "error",
     "traceback": [
      "\u001b[0;31m---------------------------------------------------------------------------\u001b[0m",
      "\u001b[0;31mNameError\u001b[0m                                 Traceback (most recent call last)",
      "Cell \u001b[0;32mIn[4], line 1\u001b[0m\n\u001b[0;32m----> 1\u001b[0m model \u001b[38;5;241m=\u001b[39m \u001b[43mROCKET\u001b[49m(\u001b[38;5;241m7\u001b[39m,\u001b[38;5;241m2\u001b[39m, \u001b[38;5;241m15\u001b[39m)\n",
      "\u001b[0;31mNameError\u001b[0m: name 'ROCKET' is not defined"
     ]
    }
   ],
   "source": []
  },
  {
   "cell_type": "code",
   "execution_count": 10,
   "metadata": {},
   "outputs": [
    {
     "data": {
      "text/plain": [
       "(88, 752)"
      ]
     },
     "execution_count": 10,
     "metadata": {},
     "output_type": "execute_result"
    }
   ],
   "source": [
    "active_avoidance_main_path= Path(\n",
    "        \"/Users/mds8301/Desktop/temp/dopamine_full_timeseries_array.pt\"\n",
    "    )\n",
    "data = load_py_data_to_np(active_avoidance_main_path)[:,::2000]\n",
    "data.shape"
   ]
  },
  {
   "cell_type": "code",
   "execution_count": 46,
   "metadata": {},
   "outputs": [],
   "source": [
    "X_train, X_val, X_test, y_train, y_val, y_test = split_data_reproduce(data)\n",
    "\n",
    "X_train = torch.from_numpy(X_train)\n",
    "X_train = X_train.view(-1, 1, seq_len)"
   ]
  },
  {
   "cell_type": "code",
   "execution_count": 47,
   "metadata": {},
   "outputs": [
    {
     "ename": "ValueError",
     "evalue": "'a' cannot be empty unless no samples are taken",
     "output_type": "error",
     "traceback": [
      "\u001b[0;31m---------------------------------------------------------------------------\u001b[0m",
      "\u001b[0;31mValueError\u001b[0m                                Traceback (most recent call last)",
      "Cell \u001b[0;32mIn[47], line 4\u001b[0m\n\u001b[1;32m      2\u001b[0m seq_len \u001b[38;5;241m=\u001b[39m X_train\u001b[38;5;241m.\u001b[39mshape[\u001b[38;5;241m1\u001b[39m]\n\u001b[1;32m      3\u001b[0m n_kernels \u001b[38;5;241m=\u001b[39m \u001b[38;5;241m10\u001b[39m\n\u001b[0;32m----> 4\u001b[0m rocket \u001b[38;5;241m=\u001b[39m \u001b[43mROCKET\u001b[49m\u001b[43m(\u001b[49m\u001b[43mc_in\u001b[49m\u001b[43m,\u001b[49m\u001b[43m \u001b[49m\u001b[43mseq_len\u001b[49m\u001b[43m,\u001b[49m\u001b[43m \u001b[49m\u001b[43mn_kernels\u001b[49m\u001b[38;5;241;43m=\u001b[39;49m\u001b[43mn_kernels\u001b[49m\u001b[43m)\u001b[49m\n\u001b[1;32m      5\u001b[0m rocket\n\u001b[1;32m      7\u001b[0m \u001b[38;5;66;03m# X_train = X_rain.shape()\u001b[39;00m\n",
      "File \u001b[0;32m~/anaconda3/envs/transphorm/lib/python3.11/site-packages/tsai/models/ROCKET_Pytorch.py:36\u001b[0m, in \u001b[0;36mROCKET.__init__\u001b[0;34m(self, c_in, seq_len, n_kernels, kss, device, verbose)\u001b[0m\n\u001b[1;32m     34\u001b[0m convs \u001b[38;5;241m=\u001b[39m nn\u001b[38;5;241m.\u001b[39mModuleList()\n\u001b[1;32m     35\u001b[0m \u001b[38;5;28;01mfor\u001b[39;00m i \u001b[38;5;129;01min\u001b[39;00m \u001b[38;5;28mrange\u001b[39m(n_kernels):\n\u001b[0;32m---> 36\u001b[0m     ks \u001b[38;5;241m=\u001b[39m np\u001b[38;5;241m.\u001b[39mrandom\u001b[38;5;241m.\u001b[39mchoice(kss)\n\u001b[1;32m     37\u001b[0m     dilation \u001b[38;5;241m=\u001b[39m \u001b[38;5;241m2\u001b[39m\u001b[38;5;241m*\u001b[39m\u001b[38;5;241m*\u001b[39mnp\u001b[38;5;241m.\u001b[39mrandom\u001b[38;5;241m.\u001b[39muniform(\u001b[38;5;241m0\u001b[39m, np\u001b[38;5;241m.\u001b[39mlog2((seq_len \u001b[38;5;241m-\u001b[39m \u001b[38;5;241m1\u001b[39m) \u001b[38;5;241m/\u001b[39m\u001b[38;5;241m/\u001b[39m (ks \u001b[38;5;241m-\u001b[39m \u001b[38;5;241m1\u001b[39m)))\n\u001b[1;32m     38\u001b[0m     padding \u001b[38;5;241m=\u001b[39m \u001b[38;5;28mint\u001b[39m((ks \u001b[38;5;241m-\u001b[39m \u001b[38;5;241m1\u001b[39m) \u001b[38;5;241m*\u001b[39m dilation \u001b[38;5;241m/\u001b[39m\u001b[38;5;241m/\u001b[39m \u001b[38;5;241m2\u001b[39m) \u001b[38;5;28;01mif\u001b[39;00m np\u001b[38;5;241m.\u001b[39mrandom\u001b[38;5;241m.\u001b[39mrandint(\u001b[38;5;241m2\u001b[39m) \u001b[38;5;241m==\u001b[39m \u001b[38;5;241m1\u001b[39m \u001b[38;5;28;01melse\u001b[39;00m \u001b[38;5;241m0\u001b[39m\n",
      "File \u001b[0;32mnumpy/random/mtrand.pyx:951\u001b[0m, in \u001b[0;36mnumpy.random.mtrand.RandomState.choice\u001b[0;34m()\u001b[0m\n",
      "\u001b[0;31mValueError\u001b[0m: 'a' cannot be empty unless no samples are taken"
     ]
    }
   ],
   "source": [
    "c_in = 1\n",
    "seq_len = X_train.shape[1]\n",
    "n_kernels = 10\n",
    "rocket = ROCKET(c_in, seq_len, n_kernels=n_kernels)\n",
    "rocket\n",
    "\n",
    "# X_train = X_rain.shape()\n",
    "\n",
    "\n",
    "rocket.forward(X_train)"
   ]
  },
  {
   "cell_type": "code",
   "execution_count": 29,
   "metadata": {},
   "outputs": [
    {
     "data": {
      "text/html": [
       "<style>#sk-ba71893a-64ca-4868-850e-db5ff9c975a1 {color: black;background-color: white;}#sk-ba71893a-64ca-4868-850e-db5ff9c975a1 pre{padding: 0;}#sk-ba71893a-64ca-4868-850e-db5ff9c975a1 div.sk-toggleable {background-color: white;}#sk-ba71893a-64ca-4868-850e-db5ff9c975a1 label.sk-toggleable__label {cursor: pointer;display: block;width: 100%;margin-bottom: 0;padding: 0.3em;box-sizing: border-box;text-align: center;}#sk-ba71893a-64ca-4868-850e-db5ff9c975a1 label.sk-toggleable__label-arrow:before {content: \"▸\";float: left;margin-right: 0.25em;color: #696969;}#sk-ba71893a-64ca-4868-850e-db5ff9c975a1 label.sk-toggleable__label-arrow:hover:before {color: black;}#sk-ba71893a-64ca-4868-850e-db5ff9c975a1 div.sk-estimator:hover label.sk-toggleable__label-arrow:before {color: black;}#sk-ba71893a-64ca-4868-850e-db5ff9c975a1 div.sk-toggleable__content {max-height: 0;max-width: 0;overflow: hidden;text-align: left;background-color: #f0f8ff;}#sk-ba71893a-64ca-4868-850e-db5ff9c975a1 div.sk-toggleable__content pre {margin: 0.2em;color: black;border-radius: 0.25em;background-color: #f0f8ff;}#sk-ba71893a-64ca-4868-850e-db5ff9c975a1 input.sk-toggleable__control:checked~div.sk-toggleable__content {max-height: 200px;max-width: 100%;overflow: auto;}#sk-ba71893a-64ca-4868-850e-db5ff9c975a1 input.sk-toggleable__control:checked~label.sk-toggleable__label-arrow:before {content: \"▾\";}#sk-ba71893a-64ca-4868-850e-db5ff9c975a1 div.sk-estimator input.sk-toggleable__control:checked~label.sk-toggleable__label {background-color: #d4ebff;}#sk-ba71893a-64ca-4868-850e-db5ff9c975a1 div.sk-label input.sk-toggleable__control:checked~label.sk-toggleable__label {background-color: #d4ebff;}#sk-ba71893a-64ca-4868-850e-db5ff9c975a1 input.sk-hidden--visually {border: 0;clip: rect(1px 1px 1px 1px);clip: rect(1px, 1px, 1px, 1px);height: 1px;margin: -1px;overflow: hidden;padding: 0;position: absolute;width: 1px;}#sk-ba71893a-64ca-4868-850e-db5ff9c975a1 div.sk-estimator {font-family: monospace;background-color: #f0f8ff;border: 1px dotted black;border-radius: 0.25em;box-sizing: border-box;margin-bottom: 0.5em;}#sk-ba71893a-64ca-4868-850e-db5ff9c975a1 div.sk-estimator:hover {background-color: #d4ebff;}#sk-ba71893a-64ca-4868-850e-db5ff9c975a1 div.sk-parallel-item::after {content: \"\";width: 100%;border-bottom: 1px solid gray;flex-grow: 1;}#sk-ba71893a-64ca-4868-850e-db5ff9c975a1 div.sk-label:hover label.sk-toggleable__label {background-color: #d4ebff;}#sk-ba71893a-64ca-4868-850e-db5ff9c975a1 div.sk-serial::before {content: \"\";position: absolute;border-left: 1px solid gray;box-sizing: border-box;top: 2em;bottom: 0;left: 50%;}#sk-ba71893a-64ca-4868-850e-db5ff9c975a1 div.sk-serial {display: flex;flex-direction: column;align-items: center;background-color: white;padding-right: 0.2em;padding-left: 0.2em;}#sk-ba71893a-64ca-4868-850e-db5ff9c975a1 div.sk-item {z-index: 1;}#sk-ba71893a-64ca-4868-850e-db5ff9c975a1 div.sk-parallel {display: flex;align-items: stretch;justify-content: center;background-color: white;}#sk-ba71893a-64ca-4868-850e-db5ff9c975a1 div.sk-parallel::before {content: \"\";position: absolute;border-left: 1px solid gray;box-sizing: border-box;top: 2em;bottom: 0;left: 50%;}#sk-ba71893a-64ca-4868-850e-db5ff9c975a1 div.sk-parallel-item {display: flex;flex-direction: column;position: relative;background-color: white;}#sk-ba71893a-64ca-4868-850e-db5ff9c975a1 div.sk-parallel-item:first-child::after {align-self: flex-end;width: 50%;}#sk-ba71893a-64ca-4868-850e-db5ff9c975a1 div.sk-parallel-item:last-child::after {align-self: flex-start;width: 50%;}#sk-ba71893a-64ca-4868-850e-db5ff9c975a1 div.sk-parallel-item:only-child::after {width: 0;}#sk-ba71893a-64ca-4868-850e-db5ff9c975a1 div.sk-dashed-wrapped {border: 1px dashed gray;margin: 0 0.4em 0.5em 0.4em;box-sizing: border-box;padding-bottom: 0.4em;background-color: white;position: relative;}#sk-ba71893a-64ca-4868-850e-db5ff9c975a1 div.sk-label label {font-family: monospace;font-weight: bold;background-color: white;display: inline-block;line-height: 1.2em;}#sk-ba71893a-64ca-4868-850e-db5ff9c975a1 div.sk-label-container {position: relative;z-index: 2;text-align: center;}#sk-ba71893a-64ca-4868-850e-db5ff9c975a1 div.sk-container {/* jupyter's `normalize.less` sets `[hidden] { display: none; }` but bootstrap.min.css set `[hidden] { display: none !important; }` so we also need the `!important` here to be able to override the default hidden behavior on the sphinx rendered scikit-learn.org. See: https://github.com/scikit-learn/scikit-learn/issues/21755 */display: inline-block !important;position: relative;}#sk-ba71893a-64ca-4868-850e-db5ff9c975a1 div.sk-text-repr-fallback {display: none;}</style><div id='sk-ba71893a-64ca-4868-850e-db5ff9c975a1' class=\"sk-top-container\"><div class=\"sk-text-repr-fallback\"><pre>RocketClassifier(n_jobs=4, num_kernels=500, use_multivariate=&#x27;no&#x27;)</pre><b>Please rerun this cell to show the HTML repr or trust the notebook.</b></div><div class=\"sk-container\" hidden><div class='sk-item'><div class=\"sk-estimator sk-toggleable\"><input class=\"sk-toggleable__control sk-hidden--visually\" id=UUID('985a8705-e1df-4d11-a55a-74c67b850d98') type=\"checkbox\" checked><label for=UUID('985a8705-e1df-4d11-a55a-74c67b850d98') class='sk-toggleable__label sk-toggleable__label-arrow'>RocketClassifier</label><div class=\"sk-toggleable__content\"><pre>RocketClassifier(n_jobs=4, num_kernels=500, use_multivariate=&#x27;no&#x27;)</pre></div></div></div></div></div>"
      ],
      "text/plain": [
       "RocketClassifier(n_jobs=4, num_kernels=500, use_multivariate='no')"
      ]
     },
     "execution_count": 29,
     "metadata": {},
     "output_type": "execute_result"
    }
   ],
   "source": [
    "rocket_classifier = RocketClassifier(\n",
    "    num_kernels=500, \n",
    "    rocket_transform='rocket', \n",
    "    use_multivariate='no', \n",
    "    n_jobs=4\n",
    ")\n",
    "rocket_classifier.fit(X_train, y_train)"
   ]
  },
  {
   "cell_type": "code",
   "execution_count": 48,
   "metadata": {},
   "outputs": [
    {
     "data": {
      "text/plain": [
       "['num_kernels',\n",
       " 'rocket_transform',\n",
       " 'max_dilations_per_kernel',\n",
       " 'n_features_per_kernel',\n",
       " 'use_multivariate',\n",
       " 'n_jobs',\n",
       " 'random_state',\n",
       " 'classes_',\n",
       " 'n_classes_',\n",
       " 'fit_time_',\n",
       " '_class_dictionary',\n",
       " '_threads_to_use',\n",
       " '_X_metadata',\n",
       " '_estimator_type',\n",
       " '_is_vectorized',\n",
       " '_converter_store_y',\n",
       " '_is_fitted',\n",
       " '_tags_dynamic',\n",
       " '_config_dynamic',\n",
       " 'multivar_rocket_',\n",
       " 'univar_rocket_',\n",
       " '_y_metadata',\n",
       " '_y_inner_mtype',\n",
       " '__module__',\n",
       " '__doc__',\n",
       " '_tags',\n",
       " 'VALID_ROCKET_STRINGS',\n",
       " 'VALID_MULTIVAR_VALUES',\n",
       " '__init__',\n",
       " 'estimator_',\n",
       " '_get_delegate',\n",
       " 'get_test_params',\n",
       " '_delegate_name',\n",
       " '_fit',\n",
       " '_predict',\n",
       " '_predict_proba',\n",
       " '_get_fitted_params',\n",
       " 'METADATA_REQ_IN_CHECKS',\n",
       " 'VECTORIZATION_ATTR',\n",
       " 'TASK',\n",
       " 'EST_TYPE',\n",
       " 'EST_TYPE_PLURAL',\n",
       " '__rmul__',\n",
       " '__or__',\n",
       " 'fit',\n",
       " 'predict',\n",
       " 'predict_proba',\n",
       " 'fit_predict',\n",
       " '_fit_predict_boilerplate',\n",
       " '_subset',\n",
       " '_pool',\n",
       " 'fit_predict_proba',\n",
       " '_single_class_y_pred',\n",
       " 'score',\n",
       " '_vectorize',\n",
       " '_check_convert_X_for_predict',\n",
       " '_check_capabilities',\n",
       " '_convert_X',\n",
       " '_check_y',\n",
       " '_get_output_mtype',\n",
       " '_convert_output_y',\n",
       " '_check_input',\n",
       " '_internal_convert',\n",
       " 'is_fitted',\n",
       " 'check_is_fitted',\n",
       " 'get_fitted_params',\n",
       " '_get_fitted_params_default',\n",
       " '_config',\n",
       " '_config_doc',\n",
       " '__eq__',\n",
       " '_get_set_config_doc',\n",
       " '_init_dynamic_doc',\n",
       " 'save',\n",
       " 'load_from_serial',\n",
       " 'load_from_path',\n",
       " '__hash__',\n",
       " 'set_config',\n",
       " 'reset',\n",
       " 'clone',\n",
       " '_get_init_signature',\n",
       " 'get_param_names',\n",
       " 'get_param_defaults',\n",
       " 'get_params',\n",
       " 'set_params',\n",
       " '_alias_params',\n",
       " 'get_class_tags',\n",
       " 'get_class_tag',\n",
       " 'get_tags',\n",
       " 'get_tag',\n",
       " 'set_tags',\n",
       " 'clone_tags',\n",
       " 'get_config',\n",
       " 'create_test_instance',\n",
       " 'create_test_instances_and_names',\n",
       " '_safe_init_test_params',\n",
       " '_has_implementation_of',\n",
       " 'is_composite',\n",
       " '_components',\n",
       " '__repr__',\n",
       " '_repr_html_',\n",
       " '_repr_html_inner',\n",
       " '_repr_mimebundle_',\n",
       " 'set_random_state',\n",
       " '_get_class_flags',\n",
       " '_get_class_flag',\n",
       " '_init_flags',\n",
       " '_get_flags',\n",
       " '_get_flag',\n",
       " '_set_flags',\n",
       " '_clone_flags',\n",
       " '__dict__',\n",
       " '__weakref__',\n",
       " '__new__',\n",
       " '__str__',\n",
       " '__getattribute__',\n",
       " '__setattr__',\n",
       " '__delattr__',\n",
       " '__lt__',\n",
       " '__le__',\n",
       " '__ne__',\n",
       " '__gt__',\n",
       " '__ge__',\n",
       " '__reduce_ex__',\n",
       " '__reduce__',\n",
       " '__getstate__',\n",
       " '__subclasshook__',\n",
       " '__init_subclass__',\n",
       " '__format__',\n",
       " '__sizeof__',\n",
       " '__dir__',\n",
       " '__class__']"
      ]
     },
     "execution_count": 48,
     "metadata": {},
     "output_type": "execute_result"
    }
   ],
   "source": [
    "rocket_classifier.__dir__()\n"
   ]
  },
  {
   "cell_type": "code",
   "execution_count": 33,
   "metadata": {},
   "outputs": [],
   "source": [
    "train_scores, validation_scores = validation_curve(rocket_classifier, X_train, y_train, param_name='num_kernels', param_range=range(100,500, 100))"
   ]
  },
  {
   "cell_type": "code",
   "execution_count": 40,
   "metadata": {},
   "outputs": [
    {
     "data": {
      "text/plain": [
       "[<matplotlib.lines.Line2D at 0x3594cc8c0>]"
      ]
     },
     "execution_count": 40,
     "metadata": {},
     "output_type": "execute_result"
    },
    {
     "data": {
      "image/png": "[encoded data removed]",
      "text/plain": [
       "<Figure size 640x480 with 1 Axes>"
      ]
     },
     "metadata": {},
     "output_type": "display_data"
    }
   ],
   "source": []
  },
  {
   "cell_type": "code",
   "execution_count": null,
   "metadata": {},
   "outputs": [],
   "source": []
  }
 ],
 "metadata": {
  "kernelspec": {
   "display_name": "transphorm12",
   "language": "python",
   "name": "python3"
  },
  "language_info": {
   "codemirror_mode": {
    "name": "ipython",
    "version": 3
   },
   "file_extension": ".py",
   "mimetype": "text/x-python",
   "name": "python",
   "nbconvert_exporter": "python",
   "pygments_lexer": "ipython3",
   "version": "3.11.9"
  }
 },
 "nbformat": 4,
 "nbformat_minor": 2
}
