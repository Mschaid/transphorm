{
 "cells": [
  {
   "cell_type": "code",
   "execution_count": 20,
   "metadata": {},
   "outputs": [],
   "source": [
    "import polars as pl\n",
    "import scipy.io\n",
    "from pathlib import Path\n",
    "import matplotlib.pyplot as plt\n",
    "import numpy as np \n",
    "from typing import Literal\n",
    "from transphorm.preprocessors import MatFetcher\n",
    "from transphorm.framework_helpers import dataloader_to_numpy\n",
    "from transphorm.model_components import AATrialDataModule\n",
    "from sklearn.model_selection import train_test_split\n",
    "from sktime.clustering.k_means import TimeSeriesKMeans"
   ]
  },
  {
   "cell_type": "code",
   "execution_count": 16,
   "metadata": {},
   "outputs": [],
   "source": [
    "path = Path(\"/Users/mds8301/Library/CloudStorage/OneDrive-NorthwesternUniversity/gaby_data/over_day_5\")"
   ]
  },
  {
   "cell_type": "code",
   "execution_count": 17,
   "metadata": {},
   "outputs": [],
   "source": [
    "\n",
    "def load_data(path: Path):\n",
    "    X, y = dataloader_to_numpy(path)\n",
    "    X_train, X_test, y_train, y_test = train_test_split(X, y, random_state=42)\n",
    "    return X_train, X_test, y_train, y_test"
   ]
  },
  {
   "cell_type": "code",
   "execution_count": 18,
   "metadata": {},
   "outputs": [],
   "source": [
    "\n",
    "X_train, X_test, y_train, y_test = load_data(path)"
   ]
  },
  {
   "cell_type": "code",
   "execution_count": 21,
   "metadata": {},
   "outputs": [
    {
     "data": {
      "text/html": [
       "<style>#sk-50e6b069-cfd1-411a-b442-60da49026fa4 {color: black;background-color: white;}#sk-50e6b069-cfd1-411a-b442-60da49026fa4 pre{padding: 0;}#sk-50e6b069-cfd1-411a-b442-60da49026fa4 div.sk-toggleable {background-color: white;}#sk-50e6b069-cfd1-411a-b442-60da49026fa4 label.sk-toggleable__label {cursor: pointer;display: block;width: 100%;margin-bottom: 0;padding: 0.3em;box-sizing: border-box;text-align: center;}#sk-50e6b069-cfd1-411a-b442-60da49026fa4 label.sk-toggleable__label-arrow:before {content: \"▸\";float: left;margin-right: 0.25em;color: #696969;}#sk-50e6b069-cfd1-411a-b442-60da49026fa4 label.sk-toggleable__label-arrow:hover:before {color: black;}#sk-50e6b069-cfd1-411a-b442-60da49026fa4 div.sk-estimator:hover label.sk-toggleable__label-arrow:before {color: black;}#sk-50e6b069-cfd1-411a-b442-60da49026fa4 div.sk-toggleable__content {max-height: 0;max-width: 0;overflow: hidden;text-align: left;background-color: #f0f8ff;}#sk-50e6b069-cfd1-411a-b442-60da49026fa4 div.sk-toggleable__content pre {margin: 0.2em;color: black;border-radius: 0.25em;background-color: #f0f8ff;}#sk-50e6b069-cfd1-411a-b442-60da49026fa4 input.sk-toggleable__control:checked~div.sk-toggleable__content {max-height: 200px;max-width: 100%;overflow: auto;}#sk-50e6b069-cfd1-411a-b442-60da49026fa4 input.sk-toggleable__control:checked~label.sk-toggleable__label-arrow:before {content: \"▾\";}#sk-50e6b069-cfd1-411a-b442-60da49026fa4 div.sk-estimator input.sk-toggleable__control:checked~label.sk-toggleable__label {background-color: #d4ebff;}#sk-50e6b069-cfd1-411a-b442-60da49026fa4 div.sk-label input.sk-toggleable__control:checked~label.sk-toggleable__label {background-color: #d4ebff;}#sk-50e6b069-cfd1-411a-b442-60da49026fa4 input.sk-hidden--visually {border: 0;clip: rect(1px 1px 1px 1px);clip: rect(1px, 1px, 1px, 1px);height: 1px;margin: -1px;overflow: hidden;padding: 0;position: absolute;width: 1px;}#sk-50e6b069-cfd1-411a-b442-60da49026fa4 div.sk-estimator {font-family: monospace;background-color: #f0f8ff;border: 1px dotted black;border-radius: 0.25em;box-sizing: border-box;margin-bottom: 0.5em;}#sk-50e6b069-cfd1-411a-b442-60da49026fa4 div.sk-estimator:hover {background-color: #d4ebff;}#sk-50e6b069-cfd1-411a-b442-60da49026fa4 div.sk-parallel-item::after {content: \"\";width: 100%;border-bottom: 1px solid gray;flex-grow: 1;}#sk-50e6b069-cfd1-411a-b442-60da49026fa4 div.sk-label:hover label.sk-toggleable__label {background-color: #d4ebff;}#sk-50e6b069-cfd1-411a-b442-60da49026fa4 div.sk-serial::before {content: \"\";position: absolute;border-left: 1px solid gray;box-sizing: border-box;top: 2em;bottom: 0;left: 50%;}#sk-50e6b069-cfd1-411a-b442-60da49026fa4 div.sk-serial {display: flex;flex-direction: column;align-items: center;background-color: white;padding-right: 0.2em;padding-left: 0.2em;}#sk-50e6b069-cfd1-411a-b442-60da49026fa4 div.sk-item {z-index: 1;}#sk-50e6b069-cfd1-411a-b442-60da49026fa4 div.sk-parallel {display: flex;align-items: stretch;justify-content: center;background-color: white;}#sk-50e6b069-cfd1-411a-b442-60da49026fa4 div.sk-parallel::before {content: \"\";position: absolute;border-left: 1px solid gray;box-sizing: border-box;top: 2em;bottom: 0;left: 50%;}#sk-50e6b069-cfd1-411a-b442-60da49026fa4 div.sk-parallel-item {display: flex;flex-direction: column;position: relative;background-color: white;}#sk-50e6b069-cfd1-411a-b442-60da49026fa4 div.sk-parallel-item:first-child::after {align-self: flex-end;width: 50%;}#sk-50e6b069-cfd1-411a-b442-60da49026fa4 div.sk-parallel-item:last-child::after {align-self: flex-start;width: 50%;}#sk-50e6b069-cfd1-411a-b442-60da49026fa4 div.sk-parallel-item:only-child::after {width: 0;}#sk-50e6b069-cfd1-411a-b442-60da49026fa4 div.sk-dashed-wrapped {border: 1px dashed gray;margin: 0 0.4em 0.5em 0.4em;box-sizing: border-box;padding-bottom: 0.4em;background-color: white;position: relative;}#sk-50e6b069-cfd1-411a-b442-60da49026fa4 div.sk-label label {font-family: monospace;font-weight: bold;background-color: white;display: inline-block;line-height: 1.2em;}#sk-50e6b069-cfd1-411a-b442-60da49026fa4 div.sk-label-container {position: relative;z-index: 2;text-align: center;}#sk-50e6b069-cfd1-411a-b442-60da49026fa4 div.sk-container {/* jupyter's `normalize.less` sets `[hidden] { display: none; }` but bootstrap.min.css set `[hidden] { display: none !important; }` so we also need the `!important` here to be able to override the default hidden behavior on the sphinx rendered scikit-learn.org. See: https://github.com/scikit-learn/scikit-learn/issues/21755 */display: inline-block !important;position: relative;}#sk-50e6b069-cfd1-411a-b442-60da49026fa4 div.sk-text-repr-fallback {display: none;}</style><div id='sk-50e6b069-cfd1-411a-b442-60da49026fa4' class=\"sk-top-container\"><div class=\"sk-text-repr-fallback\"><pre>TimeSeriesKMeans(n_clusters=2)</pre><b>Please rerun this cell to show the HTML repr or trust the notebook.</b></div><div class=\"sk-container\" hidden><div class='sk-item'><div class=\"sk-estimator sk-toggleable\"><input class=\"sk-toggleable__control sk-hidden--visually\" id=UUID('67bd0beb-08de-4731-a5f3-34a93dcf4bc4') type=\"checkbox\" checked><label for=UUID('67bd0beb-08de-4731-a5f3-34a93dcf4bc4') class='sk-toggleable__label sk-toggleable__label-arrow'>TimeSeriesKMeans</label><div class=\"sk-toggleable__content\"><pre>TimeSeriesKMeans(n_clusters=2)</pre></div></div></div></div></div>"
      ],
      "text/plain": [
       "TimeSeriesKMeans(n_clusters=2)"
      ]
     },
     "execution_count": 21,
     "metadata": {},
     "output_type": "execute_result"
    }
   ],
   "source": [
    "cluster = TimeSeriesKMeans(n_clusters=2)\n",
    "cluster.fit(X_train)"
   ]
  },
  {
   "cell_type": "code",
   "execution_count": 24,
   "metadata": {},
   "outputs": [
    {
     "data": {
      "text/plain": [
       "['/Users/mds8301/Library/CloudStorage/OneDrive-NorthwesternUniversity/gaby_data/models/ts_cluster.joblib']"
      ]
     },
     "execution_count": 24,
     "metadata": {},
     "output_type": "execute_result"
    }
   ],
   "source": [
    "import joblib\n",
    "path = \"/Users/mds8301/Library/CloudStorage/OneDrive-NorthwesternUniversity/gaby_data/models/ts_cluster.joblib\"\n",
    "joblib.dump(cluster, path)"
   ]
  },
  {
   "cell_type": "code",
   "execution_count": 25,
   "metadata": {},
   "outputs": [
    {
     "data": {
      "text/html": [
       "<style>#sk-bfc63d99-ee03-4f38-88ab-02b0a86920ef {color: black;background-color: white;}#sk-bfc63d99-ee03-4f38-88ab-02b0a86920ef pre{padding: 0;}#sk-bfc63d99-ee03-4f38-88ab-02b0a86920ef div.sk-toggleable {background-color: white;}#sk-bfc63d99-ee03-4f38-88ab-02b0a86920ef label.sk-toggleable__label {cursor: pointer;display: block;width: 100%;margin-bottom: 0;padding: 0.3em;box-sizing: border-box;text-align: center;}#sk-bfc63d99-ee03-4f38-88ab-02b0a86920ef label.sk-toggleable__label-arrow:before {content: \"▸\";float: left;margin-right: 0.25em;color: #696969;}#sk-bfc63d99-ee03-4f38-88ab-02b0a86920ef label.sk-toggleable__label-arrow:hover:before {color: black;}#sk-bfc63d99-ee03-4f38-88ab-02b0a86920ef div.sk-estimator:hover label.sk-toggleable__label-arrow:before {color: black;}#sk-bfc63d99-ee03-4f38-88ab-02b0a86920ef div.sk-toggleable__content {max-height: 0;max-width: 0;overflow: hidden;text-align: left;background-color: #f0f8ff;}#sk-bfc63d99-ee03-4f38-88ab-02b0a86920ef div.sk-toggleable__content pre {margin: 0.2em;color: black;border-radius: 0.25em;background-color: #f0f8ff;}#sk-bfc63d99-ee03-4f38-88ab-02b0a86920ef input.sk-toggleable__control:checked~div.sk-toggleable__content {max-height: 200px;max-width: 100%;overflow: auto;}#sk-bfc63d99-ee03-4f38-88ab-02b0a86920ef input.sk-toggleable__control:checked~label.sk-toggleable__label-arrow:before {content: \"▾\";}#sk-bfc63d99-ee03-4f38-88ab-02b0a86920ef div.sk-estimator input.sk-toggleable__control:checked~label.sk-toggleable__label {background-color: #d4ebff;}#sk-bfc63d99-ee03-4f38-88ab-02b0a86920ef div.sk-label input.sk-toggleable__control:checked~label.sk-toggleable__label {background-color: #d4ebff;}#sk-bfc63d99-ee03-4f38-88ab-02b0a86920ef input.sk-hidden--visually {border: 0;clip: rect(1px 1px 1px 1px);clip: rect(1px, 1px, 1px, 1px);height: 1px;margin: -1px;overflow: hidden;padding: 0;position: absolute;width: 1px;}#sk-bfc63d99-ee03-4f38-88ab-02b0a86920ef div.sk-estimator {font-family: monospace;background-color: #f0f8ff;border: 1px dotted black;border-radius: 0.25em;box-sizing: border-box;margin-bottom: 0.5em;}#sk-bfc63d99-ee03-4f38-88ab-02b0a86920ef div.sk-estimator:hover {background-color: #d4ebff;}#sk-bfc63d99-ee03-4f38-88ab-02b0a86920ef div.sk-parallel-item::after {content: \"\";width: 100%;border-bottom: 1px solid gray;flex-grow: 1;}#sk-bfc63d99-ee03-4f38-88ab-02b0a86920ef div.sk-label:hover label.sk-toggleable__label {background-color: #d4ebff;}#sk-bfc63d99-ee03-4f38-88ab-02b0a86920ef div.sk-serial::before {content: \"\";position: absolute;border-left: 1px solid gray;box-sizing: border-box;top: 2em;bottom: 0;left: 50%;}#sk-bfc63d99-ee03-4f38-88ab-02b0a86920ef div.sk-serial {display: flex;flex-direction: column;align-items: center;background-color: white;padding-right: 0.2em;padding-left: 0.2em;}#sk-bfc63d99-ee03-4f38-88ab-02b0a86920ef div.sk-item {z-index: 1;}#sk-bfc63d99-ee03-4f38-88ab-02b0a86920ef div.sk-parallel {display: flex;align-items: stretch;justify-content: center;background-color: white;}#sk-bfc63d99-ee03-4f38-88ab-02b0a86920ef div.sk-parallel::before {content: \"\";position: absolute;border-left: 1px solid gray;box-sizing: border-box;top: 2em;bottom: 0;left: 50%;}#sk-bfc63d99-ee03-4f38-88ab-02b0a86920ef div.sk-parallel-item {display: flex;flex-direction: column;position: relative;background-color: white;}#sk-bfc63d99-ee03-4f38-88ab-02b0a86920ef div.sk-parallel-item:first-child::after {align-self: flex-end;width: 50%;}#sk-bfc63d99-ee03-4f38-88ab-02b0a86920ef div.sk-parallel-item:last-child::after {align-self: flex-start;width: 50%;}#sk-bfc63d99-ee03-4f38-88ab-02b0a86920ef div.sk-parallel-item:only-child::after {width: 0;}#sk-bfc63d99-ee03-4f38-88ab-02b0a86920ef div.sk-dashed-wrapped {border: 1px dashed gray;margin: 0 0.4em 0.5em 0.4em;box-sizing: border-box;padding-bottom: 0.4em;background-color: white;position: relative;}#sk-bfc63d99-ee03-4f38-88ab-02b0a86920ef div.sk-label label {font-family: monospace;font-weight: bold;background-color: white;display: inline-block;line-height: 1.2em;}#sk-bfc63d99-ee03-4f38-88ab-02b0a86920ef div.sk-label-container {position: relative;z-index: 2;text-align: center;}#sk-bfc63d99-ee03-4f38-88ab-02b0a86920ef div.sk-container {/* jupyter's `normalize.less` sets `[hidden] { display: none; }` but bootstrap.min.css set `[hidden] { display: none !important; }` so we also need the `!important` here to be able to override the default hidden behavior on the sphinx rendered scikit-learn.org. See: https://github.com/scikit-learn/scikit-learn/issues/21755 */display: inline-block !important;position: relative;}#sk-bfc63d99-ee03-4f38-88ab-02b0a86920ef div.sk-text-repr-fallback {display: none;}</style><div id='sk-bfc63d99-ee03-4f38-88ab-02b0a86920ef' class=\"sk-top-container\"><div class=\"sk-text-repr-fallback\"><pre>TimeSeriesKMeans(n_clusters=2)</pre><b>Please rerun this cell to show the HTML repr or trust the notebook.</b></div><div class=\"sk-container\" hidden><div class='sk-item'><div class=\"sk-estimator sk-toggleable\"><input class=\"sk-toggleable__control sk-hidden--visually\" id=UUID('050f1e13-7fc6-4f96-a735-6be01d362f53') type=\"checkbox\" checked><label for=UUID('050f1e13-7fc6-4f96-a735-6be01d362f53') class='sk-toggleable__label sk-toggleable__label-arrow'>TimeSeriesKMeans</label><div class=\"sk-toggleable__content\"><pre>TimeSeriesKMeans(n_clusters=2)</pre></div></div></div></div></div>"
      ],
      "text/plain": [
       "TimeSeriesKMeans(n_clusters=2)"
      ]
     },
     "execution_count": 25,
     "metadata": {},
     "output_type": "execute_result"
    }
   ],
   "source": [
    "joblib.load(\"/Users/mds8301/Library/CloudStorage/OneDrive-NorthwesternUniversity/gaby_data/models/ts_cluster.joblib\")"
   ]
  },
  {
   "cell_type": "code",
   "execution_count": null,
   "metadata": {},
   "outputs": [],
   "source": []
  }
 ],
 "metadata": {
  "kernelspec": {
   "display_name": "transphorm",
   "language": "python",
   "name": "python3"
  },
  "language_info": {
   "codemirror_mode": {
    "name": "ipython",
    "version": 3
   },
   "file_extension": ".py",
   "mimetype": "text/x-python",
   "name": "python",
   "nbconvert_exporter": "python",
   "pygments_lexer": "ipython3",
   "version": "3.11.9"
  }
 },
 "nbformat": 4,
 "nbformat_minor": 2
}
