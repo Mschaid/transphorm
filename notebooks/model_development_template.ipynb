{
 "cells": [
  {
   "cell_type": "code",
   "execution_count": 1,
   "metadata": {},
   "outputs": [],
   "source": [
    "%load_ext autoreload\n",
    "%autoreload 2"
   ]
  },
  {
   "cell_type": "code",
   "execution_count": 2,
   "metadata": {},
   "outputs": [],
   "source": [
    "import os\n",
    "from pathlib import Path\n",
    "import torch\n",
    "from torch.utils.data import Dataset\n",
    "import torchmetrics\n",
    "\n",
    "from torch.utils.data.dataset import random_split\n",
    "from sklearn.model_selection import train_test_split\n",
    "os.environ[\"PYTORCH_ENABLE_MPS_FALLBACK\"]='1'"
   ]
  },
  {
   "cell_type": "markdown",
   "metadata": {},
   "source": [
    "### Imports"
   ]
  },
  {
   "cell_type": "code",
   "execution_count": 49,
   "metadata": {},
   "outputs": [],
   "source": [
    "main_path = Path('/Users/mds8301/Desktop/temp')"
   ]
  },
  {
   "cell_type": "code",
   "execution_count": 51,
   "metadata": {},
   "outputs": [],
   "source": [
    "full_data = torch.load(main_path/ \"dopamine_full_timeseries_array.pt\")\n",
    "# training = torch.load(main_path / 'aa_training.pt')\n",
    "# testing = torch.load(main_path /'aa_testing.pt')\n"
   ]
  },
  {
   "cell_type": "code",
   "execution_count": 21,
   "metadata": {},
   "outputs": [
    {
     "data": {
      "text/plain": [
       "tensor(0.)"
      ]
     },
     "execution_count": 21,
     "metadata": {},
     "output_type": "execute_result"
    }
   ],
   "source": [
    "y_pred = torch.Tensor([-0.3167, -0.3216, -0.3270, -0.3241, -0.3250, -0.3200, -0.3483, -0.3245,\n",
    "        -0.3208, -0.3179, -0.3258, -0.3219, 5])\n",
    "y = torch.Tensor([1., 1., 1., 1., 1., 0., 0., 0., 0., 0., 0., 0., 0.])\n",
    "y_1 = y = torch.Tensor([ 0., 0., 0., 0., 0., 0., 0., 0., 0., 0., 0., 0., 0.])\n",
    "y_2 = torch.ones(y.shape)\n",
    "y_3 = torch.zeros(y.shape)\n",
    "\n",
    "sig = torch.nn.Sigmoid()\n",
    "threshold = 0.5\n",
    "prediction = sig(y_pred)\n",
    "classification = (prediction >= threshold).float()\n",
    "classification\n",
    "\n",
    "import torchmetrics\n",
    "import torchmetrics.classification\n",
    "accuracy = torchmetrics.classification.Accuracy(task = 'binary', num_classes=2)\n",
    "accuracy(y_2, y_)\n"
   ]
  },
  {
   "cell_type": "markdown",
   "metadata": {},
   "source": [
    "# Train"
   ]
  },
  {
   "cell_type": "code",
   "execution_count": null,
   "metadata": {},
   "outputs": [],
   "source": [
    "indicies=classifier.kneighbors(X_train)"
   ]
  },
  {
   "cell_type": "code",
   "execution_count": null,
   "metadata": {},
   "outputs": [],
   "source": [
    "indicies[1]"
   ]
  },
  {
   "cell_type": "markdown",
   "metadata": {},
   "source": [
    "# Predict\n"
   ]
  },
  {
   "cell_type": "markdown",
   "metadata": {},
   "source": [
    "# Analyze"
   ]
  },
  {
   "cell_type": "markdown",
   "metadata": {},
   "source": []
  }
 ],
 "metadata": {
  "kernelspec": {
   "display_name": "transphorm",
   "language": "python",
   "name": "python3"
  },
  "language_info": {
   "codemirror_mode": {
    "name": "ipython",
    "version": 3
   },
   "file_extension": ".py",
   "mimetype": "text/x-python",
   "name": "python",
   "nbconvert_exporter": "python",
   "pygments_lexer": "ipython3",
   "version": "3.12.3"
  }
 },
 "nbformat": 4,
 "nbformat_minor": 2
}
