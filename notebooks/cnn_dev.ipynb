{
 "cells": [
  {
   "cell_type": "code",
   "execution_count": 3,
   "metadata": {},
   "outputs": [],
   "source": [
    "from comet_ml import Experiment\n",
    "from comet_ml.integration.sklearn import log_model\n",
    "\n",
    "from pathlib import Path\n",
    "import torch\n",
    "from typing import Tuple, Any\n",
    "import matplotlib.pyplot as plt\n",
    "from sklearn.model_selection import train_test_split\n",
    "from sktime.classification.deep_learning.lstmfcn import LSTMFCNClassifier\n",
    "from sklearn.metrics import f1_score, precision_score, recall_score\n",
    "\n",
    "import numpy as np\n",
    "from transphorm.model_components import (\n",
    "    DeepClassifier,\n",
    "    CNN,\n",
    "    FCNet,\n",
    "    TSDataModule,\n",
    "    make_data)"
   ]
  },
  {
   "cell_type": "code",
   "execution_count": 69,
   "metadata": {},
   "outputs": [
    {
     "data": {
      "text/plain": [
       "tensor(-0.)"
      ]
     },
     "execution_count": 69,
     "metadata": {},
     "output_type": "execute_result"
    }
   ],
   "source": [
    "from torch import nn\n",
    "loss = nn.CrossEntropyLoss()\n",
    "y_hat = torch.tensor([[-0.0952],\n",
    "        [-0.1068],\n",
    "        [-0.1137],\n",
    "        [-0.1127],\n",
    "        [-0.1136],\n",
    "        [-0.1146],\n",
    "        [-0.1078],\n",
    "        [-0.1076],\n",
    "        [-0.1170],\n",
    "        [-0.1135],\n",
    "        [-0.1015]])\n",
    "y = torch.tensor([[1.],\n",
    "        [0.],\n",
    "        [1.],\n",
    "        [0.],\n",
    "        [0.],\n",
    "        [0.],\n",
    "        [1.],\n",
    "        [0.],\n",
    "        [0.],\n",
    "        [0.],\n",
    "        [1.]])\n",
    "# y = torch.tensor([1., 0., 1.])\n",
    "nn.CrossEntropyLoss()(y_hat, y)\n",
    "\n"
   ]
  },
  {
   "cell_type": "code",
   "execution_count": 44,
   "metadata": {},
   "outputs": [],
   "source": [
    "\n",
    "batch_size = 32\n",
    "input_size = 1000\n",
    "loader = TSDataModule(batch_size=batch_size)\n",
    "loader.prepare_data()\n",
    "loader.setup(stage=\"train\")\n",
    "\n",
    "tl = loader.train_dataloader()\n",
    "\n",
    "features, labels = make_data()\n"
   ]
  },
  {
   "cell_type": "code",
   "execution_count": null,
   "metadata": {},
   "outputs": [],
   "source": []
  },
  {
   "cell_type": "code",
   "execution_count": null,
   "metadata": {},
   "outputs": [],
   "source": [
    "cnn = CNN()\n",
    "cnn()"
   ]
  }
 ],
 "metadata": {
  "kernelspec": {
   "display_name": "transphorm_with_flow",
   "language": "python",
   "name": "python3"
  },
  "language_info": {
   "codemirror_mode": {
    "name": "ipython",
    "version": 3
   },
   "file_extension": ".py",
   "mimetype": "text/x-python",
   "name": "python",
   "nbconvert_exporter": "python",
   "pygments_lexer": "ipython3",
   "version": "3.11.9"
  }
 },
 "nbformat": 4,
 "nbformat_minor": 2
}
